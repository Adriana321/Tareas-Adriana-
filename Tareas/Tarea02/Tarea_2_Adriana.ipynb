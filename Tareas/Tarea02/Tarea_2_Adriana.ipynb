{
  "nbformat": 4,
  "nbformat_minor": 0,
  "metadata": {
    "colab": {
      "provenance": []
    },
    "kernelspec": {
      "name": "python3",
      "display_name": "Python 3"
    },
    "language_info": {
      "name": "python"
    }
  },
  "cells": [
    {
      "cell_type": "code",
      "execution_count": null,
      "metadata": {
        "id": "7kUWjvUyc9dO"
      },
      "outputs": [],
      "source": []
    },
    {
      "cell_type": "markdown",
      "source": [
        "Tarea 2 Adriana"
      ],
      "metadata": {
        "id": "rhA_NCtBKOVT"
      }
    },
    {
      "cell_type": "code",
      "source": [
        "#problema 1\n",
        "for imprime in range(-100,201):\n",
        "  print(imprime)\n",
        "\n"
      ],
      "metadata": {
        "id": "j3-CzDZuJ8dd"
      },
      "execution_count": null,
      "outputs": []
    },
    {
      "cell_type": "code",
      "source": [
        "#problema 2\n",
        "for seis in range(-100,201):\n",
        "  if seis % 6 == 0:\n",
        "    print(seis)\n",
        ""
      ],
      "metadata": {
        "id": "rFHN4gpCR36f"
      },
      "execution_count": null,
      "outputs": []
    },
    {
      "cell_type": "code",
      "source": [
        "#problema 3\n",
        "def comparador(x,y):\n",
        "  a = x + y\n",
        "  if a < 200:\n",
        "    return \"es menor a 200\"\n",
        "  elif a > 200 and a < 250:\n",
        "    return \"es mayor a 200\"\n",
        "  else:\n",
        "    return \"es mayor a 250\""
      ],
      "metadata": {
        "id": "AH99NF2USdnN"
      },
      "execution_count": 15,
      "outputs": []
    },
    {
      "cell_type": "code",
      "source": [
        "#problema 4\n",
        "x = int(input(\"¿Edad?\"))\n",
        "y = input(\"Te gusta la musica urbana?\")\n",
        "if x > 18 and y == \"si\":\n",
        "  print(\"Eres mayor de edad y te gusta la musica urbana\")\n",
        "else:\n",
        "  print(\"No eres mayor de edad o no te gusta la musica urbana\")"
      ],
      "metadata": {
        "id": "Nn5V8NxsThhB"
      },
      "execution_count": null,
      "outputs": []
    },
    {
      "cell_type": "code",
      "source": [],
      "metadata": {
        "id": "Vt2u7OJATj_x"
      },
      "execution_count": null,
      "outputs": []
    },
    {
      "cell_type": "code",
      "source": [],
      "metadata": {
        "id": "SHH0VVKUSulg"
      },
      "execution_count": null,
      "outputs": []
    }
  ]
}